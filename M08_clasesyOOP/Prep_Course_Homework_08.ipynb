{
 "cells": [
  {
   "attachments": {},
   "cell_type": "markdown",
   "metadata": {},
   "source": [
    "## Clases y Programación Orientada a Objetos"
   ]
  },
  {
   "attachments": {},
   "cell_type": "markdown",
   "metadata": {},
   "source": [
    "1) Crear la clase vehículo que contenga los atributos:<br>\n",
    "Color<br>\n",
    "Si es moto, auto, camioneta ó camión<br>\n",
    "Cilindrada del motor"
   ]
  },
  {
   "cell_type": "code",
   "execution_count": 1,
   "metadata": {},
   "outputs": [],
   "source": [
    "class Vehiculo:\n",
    "    def __init__(self, color, tipo_vehiculo, cilindrada):\n",
    "        self.color = color\n",
    "        self.tipo_vehiculo = tipo_vehiculo\n",
    "        self.cilindrada = cilindrada\n",
    "    "
   ]
  },
  {
   "attachments": {},
   "cell_type": "markdown",
   "metadata": {},
   "source": [
    "2) A la clase Vehiculo creada en el punto 1, agregar los siguientes métodos:<br>\n",
    "Acelerar<br>\n",
    "Frenar<br>\n",
    "Doblar<br>"
   ]
  },
  {
   "cell_type": "code",
   "execution_count": 2,
   "metadata": {},
   "outputs": [],
   "source": [
    "class Vehiculo:\n",
    "    def __init__(self, color, tipo_vehiculo, cilindrada):\n",
    "        self.color = color\n",
    "        self.tipo_vehiculo = tipo_vehiculo\n",
    "        self.cilindrada = cilindrada\n",
    "        self.velocidad = 0\n",
    "        self.direccion = 0\n",
    "        \n",
    "    def acelerar(self, vel):\n",
    "        self.velocidad += vel\n",
    "\n",
    "    def frenar(self, vel):\n",
    "        self.velocidad -= vel\n",
    "   \n",
    "    def doblar(self, grados):\n",
    "        self.direccion += grados\n",
    "    \n",
    "    "
   ]
  },
  {
   "attachments": {},
   "cell_type": "markdown",
   "metadata": {},
   "source": [
    "3) Instanciar 3 objetos de la clase vehículo y ejecutar sus métodos, probar luego el resultado"
   ]
  },
  {
   "cell_type": "code",
   "execution_count": 3,
   "metadata": {},
   "outputs": [],
   "source": [
    "v1 = Vehiculo('azul', 'camión', 5000)\n",
    "v2 = Vehiculo('verde', 'sedan', 2000)\n",
    "v3 = Vehiculo('rojo', 'suv', 2500)"
   ]
  },
  {
   "cell_type": "code",
   "execution_count": 4,
   "metadata": {},
   "outputs": [],
   "source": [
    "v1.acelerar(40)\n",
    "v2.frenar(20)\n",
    "v3.doblar(-45)\n"
   ]
  },
  {
   "attachments": {},
   "cell_type": "markdown",
   "metadata": {},
   "source": [
    "4) Agregar a la clase Vehiculo, un método que muestre su estado, es decir, a que velocidad se encuentra y su dirección. Y otro método que muestre color, tipo y cilindrada"
   ]
  },
  {
   "cell_type": "code",
   "execution_count": 5,
   "metadata": {},
   "outputs": [],
   "source": [
    "class Vehiculo:\n",
    "    def __init__(self, color, tipo, cilindrada):\n",
    "        self.color = color\n",
    "        self.tipo_vehiculo = tipo_vehiculo\n",
    "        self.cilindrada = cilindrada\n",
    "        self.velocidad = 0\n",
    "        self.direccion = 0\n",
    "\n",
    "    def Acelerar(self, vel):\n",
    "        self.velocidad += vel\n",
    "\n",
    "    def Frenar(self, vel):\n",
    "        self.velocidad -= vel\n",
    "    \n",
    "    def Doblar(self, grados):\n",
    "        self.direccion += grados\n",
    "\n",
    "    def Estado(self):\n",
    "        print('Velocidad:', self.velocidad, '- Dirección:', self.direccion)\n",
    "\n",
    "    def Detalle(self):\n",
    "        print('Soy', self.tipo, 'de color', self.color, 'y mi cilindrada es de', self.cilindrada, 'litros')"
   ]
  },
  {
   "cell_type": "code",
   "execution_count": 8,
   "metadata": {},
   "outputs": [
    {
     "ename": "AttributeError",
     "evalue": "'Vehiculo' object has no attribute 'Detalle'",
     "output_type": "error",
     "traceback": [
      "\u001b[1;31m---------------------------------------------------------------------------\u001b[0m",
      "\u001b[1;31mAttributeError\u001b[0m                            Traceback (most recent call last)",
      "\u001b[1;32mc:\\Users\\matia\\Python-Prep\\M08_clasesyOOP\\Prep_Course_Homework_08.ipynb Celda 11\u001b[0m line \u001b[0;36m2\n\u001b[0;32m      <a href='vscode-notebook-cell:/c%3A/Users/matia/Python-Prep/M08_clasesyOOP/Prep_Course_Homework_08.ipynb#X13sZmlsZQ%3D%3D?line=0'>1</a>\u001b[0m \u001b[39m#v1.Estado()\u001b[39;00m\n\u001b[1;32m----> <a href='vscode-notebook-cell:/c%3A/Users/matia/Python-Prep/M08_clasesyOOP/Prep_Course_Homework_08.ipynb#X13sZmlsZQ%3D%3D?line=1'>2</a>\u001b[0m v2\u001b[39m.\u001b[39;49mDetalle()\n",
      "\u001b[1;31mAttributeError\u001b[0m: 'Vehiculo' object has no attribute 'Detalle'"
     ]
    }
   ],
   "source": [
    "#v1.Estado()\n",
    "v2.Detalle()"
   ]
  },
  {
   "cell_type": "code",
   "execution_count": 7,
   "metadata": {},
   "outputs": [
    {
     "ename": "AttributeError",
     "evalue": "'Vehiculo' object has no attribute 'Estado'",
     "output_type": "error",
     "traceback": [
      "\u001b[1;31m---------------------------------------------------------------------------\u001b[0m",
      "\u001b[1;31mAttributeError\u001b[0m                            Traceback (most recent call last)",
      "\u001b[1;32mc:\\Users\\matia\\Python-Prep\\M08_clasesyOOP\\Prep_Course_Homework_08.ipynb Celda 12\u001b[0m line \u001b[0;36m1\n\u001b[1;32m----> <a href='vscode-notebook-cell:/c%3A/Users/matia/Python-Prep/M08_clasesyOOP/Prep_Course_Homework_08.ipynb#X14sZmlsZQ%3D%3D?line=0'>1</a>\u001b[0m v1\u001b[39m.\u001b[39;49mEstado()\n",
      "\u001b[1;31mAttributeError\u001b[0m: 'Vehiculo' object has no attribute 'Estado'"
     ]
    }
   ],
   "source": [
    "v1.Estado()"
   ]
  },
  {
   "attachments": {},
   "cell_type": "markdown",
   "metadata": {},
   "source": [
    "5) Crear una clase que permita utilizar las funciones creadas en la práctica del módulo 7<br>\n",
    "Verificar Primo<br>\n",
    "Valor modal<br>\n",
    "Conversión grados<br>\n",
    "Factorial<br>"
   ]
  },
  {
   "cell_type": "code",
   "execution_count": 18,
   "metadata": {},
   "outputs": [],
   "source": [
    "from collections import Counter\n",
    "class Herramientas:\n",
    "    def __init__(self) -> None:\n",
    "        pass\n",
    "\n",
    "    def verifica_primo(self, nro):\n",
    "        es_primo = True\n",
    "        for i in range(2, nro):\n",
    "            if nro % i == 0:\n",
    "                es_primo = False\n",
    "                break\n",
    "        return es_primo\n",
    "    \n",
    "    def calcular_moda(lista):\n",
    "        conteo = Counter(lista)\n",
    "        llave = max(conteo, key = conteo.get)\n",
    "        valor = conteo[llave]\n",
    "        return llave, valor\n",
    "    \n",
    "    #def valor_modal(self, lista):\n",
    "     #   lista_unicos = []\n",
    "     #   lista_repeticiones = []\n",
    "      #  if len(lista) == 0:\n",
    "       #     return None\n",
    "      #  for elemento in lista:\n",
    "     #       if elemento in lista_unicos:\n",
    "     #           i = lista_unicos.index(elemento)\n",
    "     #           lista_repeticiones[i] += 1\n",
    "     #       else:\n",
    "     #           lista_unicos.append(elemento)\n",
    "    #            lista_repeticiones.append(1)\n",
    "     #   moda = lista_unicos[0]\n",
    "     #   maximo = lista_repeticiones[0]\n",
    "     #   for i, elemento in enumerate(lista_unicos):\n",
    "     #       if lista_repeticiones[i] > maximo:\n",
    "     #           moda = lista_unicos[i]\n",
    "     #           maximo = lista_repeticiones[i]\n",
    "     #   return moda, maximo\n",
    "\n",
    "    def conversion_grados(self, valor, origen, destino):\n",
    "        if (origen == 'celsius'):\n",
    "            if (destino == 'celsius'):\n",
    "                valor_destino = valor\n",
    "            elif (destino == 'farenheit'):\n",
    "                valor_destino = (valor * 9 / 5) + 32\n",
    "            elif (destino == 'kelvin'):\n",
    "                valor_destino = valor + 273.15\n",
    "            else:\n",
    "                print('Parámetro de Destino incorrecto')\n",
    "        elif (origen == 'farenheit'):\n",
    "            if (destino == 'celsius'):\n",
    "                valor_destino = (valor - 32) * 5 / 9\n",
    "            elif (destino == 'farenheit'):\n",
    "                valor_destino = valor\n",
    "            elif (destino == 'kelvin'):\n",
    "                valor_destino = ((valor - 32) * 5 / 9) + 273.15\n",
    "            else:\n",
    "                print('Parámetro de Destino incorrecto')\n",
    "        elif (origen == 'kelvin'):\n",
    "            if (destino == 'celsius'):\n",
    "                valor_destino = valor - 273.15\n",
    "            elif (destino == 'farenheit'):\n",
    "                valor_destino = ((valor - 273.15) * 9 / 5) + 32\n",
    "            elif (destino == 'kelvin'):\n",
    "                valor_destino = valor\n",
    "            else:\n",
    "                print('Parámetro de Destino incorrecto')\n",
    "        else:\n",
    "            print('Parámetro de Origen incorrecto')\n",
    "        return valor_destino\n",
    "        \n",
    "    def factorial(self, numero):\n",
    "        if(type(numero) != int):\n",
    "            return 'El numero debe ser un entero'\n",
    "        if(numero < 0):\n",
    "            return 'El numero debe ser positivo'\n",
    "        if (numero > 1):\n",
    "            numero = numero * self.factorial(numero - 1)\n",
    "        return numero"
   ]
  },
  {
   "cell_type": "code",
   "execution_count": 2,
   "metadata": {},
   "outputs": [],
   "source": [
    "h = Herramientas()"
   ]
  },
  {
   "attachments": {},
   "cell_type": "markdown",
   "metadata": {},
   "source": [
    "6) Probar las funciones incorporadas en la clase del punto 5"
   ]
  },
  {
   "cell_type": "code",
   "execution_count": 3,
   "metadata": {},
   "outputs": [
    {
     "data": {
      "text/plain": [
       "True"
      ]
     },
     "execution_count": 3,
     "metadata": {},
     "output_type": "execute_result"
    }
   ],
   "source": [
    "h.verifica_primo(5)"
   ]
  },
  {
   "cell_type": "code",
   "execution_count": 4,
   "metadata": {},
   "outputs": [
    {
     "data": {
      "text/plain": [
       "'El numero debe ser positivo'"
      ]
     },
     "execution_count": 4,
     "metadata": {},
     "output_type": "execute_result"
    }
   ],
   "source": [
    "h.factorial(-5)"
   ]
  },
  {
   "cell_type": "code",
   "execution_count": 19,
   "metadata": {},
   "outputs": [],
   "source": [
    "def calcular_moda(lista):\n",
    "        conteo = Counter(lista)\n",
    "        llave = max(conteo, key = conteo.get)\n",
    "        valor = conteo[llave]\n",
    "        return llave, valor"
   ]
  },
  {
   "cell_type": "code",
   "execution_count": 14,
   "metadata": {},
   "outputs": [
    {
     "data": {
      "text/plain": [
       "(8, 3)"
      ]
     },
     "execution_count": 14,
     "metadata": {},
     "output_type": "execute_result"
    }
   ],
   "source": [
    "lista = [1,2,5,6,8,9,8,8,3,2]\n",
    "calcular_moda(lista)"
   ]
  },
  {
   "cell_type": "code",
   "execution_count": 30,
   "metadata": {},
   "outputs": [
    {
     "data": {
      "text/plain": [
       "(8, 3)"
      ]
     },
     "execution_count": 30,
     "metadata": {},
     "output_type": "execute_result"
    }
   ],
   "source": [
    "lista = [1,2,5,6,8,9,8,8,3,2]\n",
    "calcular_moda(lista)"
   ]
  },
  {
   "attachments": {},
   "cell_type": "markdown",
   "metadata": {},
   "source": [
    "7) Es necesario que la clase creada en el punto 5 contenga una lista, sobre la cual se apliquen las funciones incorporadas"
   ]
  },
  {
   "cell_type": "code",
   "execution_count": 21,
   "metadata": {},
   "outputs": [],
   "source": [
    "class Herramientas:\n",
    "    def __init__(self, lista_numeros):\n",
    "        self.lista = lista_numeros\n",
    "# se agrega esto\n",
    "    def verifica_primo(self):\n",
    "        for i in self.lista:\n",
    "            if (self.__verifica_primo(i)):\n",
    "                print('El elemento', i, 'SI es un numero primo')\n",
    "            else:\n",
    "                print('El elemento', i, 'NO es un numero primo')\n",
    "\n",
    "    def conversion_grados(self, origen, destino):\n",
    "        for i in self.lista:\n",
    "            print(i, 'grados', origen, 'son', self.__conversion_grados(i, origen, destino),'grados',destino)\n",
    "    \n",
    "    def factorial(self):\n",
    "        for i in self.lista:\n",
    "            print('El factorial de ', i, 'es', self.__factorial(i))\n",
    "    \n",
    "# Esto es lo anterior encapsulado\n",
    "    def __verifica_primo(self, nro):\n",
    "        es_primo = True\n",
    "        for i in range(2, nro):\n",
    "            if nro % i == 0:\n",
    "                es_primo = False\n",
    "                break\n",
    "        return es_primo\n",
    "# valor modal no se encapsula por q ya recibe lista\n",
    "    def valor_modal(self, lista):\n",
    "        lista_unicos = []\n",
    "        lista_repeticiones = []\n",
    "        if len(lista) == 0:\n",
    "            return None\n",
    "        for elemento in lista:\n",
    "            if elemento in lista_unicos:\n",
    "                i = lista_unicos.index(elemento)\n",
    "                lista_repeticiones[i] += 1\n",
    "            else:\n",
    "                lista_unicos.append(elemento)\n",
    "                lista_repeticiones.append(1)\n",
    "        moda = lista_unicos[0]\n",
    "        maximo = lista_repeticiones[0]\n",
    "        for i, elemento in enumerate(lista_unicos):\n",
    "            if lista_repeticiones[i] > maximo:\n",
    "                moda = lista_unicos[i]\n",
    "                maximo = lista_repeticiones[i]\n",
    "        return moda, maximo\n",
    "\n",
    "    def __conversion_grados(self, valor, origen, destino):\n",
    "        if (origen == 'celsius'):\n",
    "            if (destino == 'celsius'):\n",
    "                valor_destino = valor\n",
    "            elif (destino == 'farenheit'):\n",
    "                valor_destino = (valor * 9 / 5) + 32\n",
    "            elif (destino == 'kelvin'):\n",
    "                valor_destino = valor + 273.15\n",
    "            else:\n",
    "                print('Parámetro de Destino incorrecto')\n",
    "        elif (origen == 'farenheit'):\n",
    "            if (destino == 'celsius'):\n",
    "                valor_destino = (valor - 32) * 5 / 9\n",
    "            elif (destino == 'farenheit'):\n",
    "                valor_destino = valor\n",
    "            elif (destino == 'kelvin'):\n",
    "                valor_destino = ((valor - 32) * 5 / 9) + 273.15\n",
    "            else:\n",
    "                print('Parámetro de Destino incorrecto')\n",
    "        elif (origen == 'kelvin'):\n",
    "            if (destino == 'celsius'):\n",
    "                valor_destino = valor - 273.15\n",
    "            elif (destino == 'farenheit'):\n",
    "                valor_destino = ((valor - 273.15) * 9 / 5) + 32\n",
    "            elif (destino == 'kelvin'):\n",
    "                valor_destino = valor\n",
    "            else:\n",
    "                print('Parámetro de Destino incorrecto')\n",
    "        else:\n",
    "            print('Parámetro de Origen incorrecto')\n",
    "        return valor_destino\n",
    "        \n",
    "    def __factorial(self, numero):\n",
    "        if(type(numero) != int):\n",
    "            return 'El numero debe ser un entero'\n",
    "        if(numero < 0):\n",
    "            return 'El numero debe ser positivo'\n",
    "        if (numero > 1):\n",
    "            numero = numero * self.factorial(numero - 1)\n",
    "        return numero"
   ]
  },
  {
   "cell_type": "code",
   "execution_count": 23,
   "metadata": {},
   "outputs": [],
   "source": [
    "h = Herramientas([1,2,3,4,5,6,6])"
   ]
  },
  {
   "attachments": {},
   "cell_type": "markdown",
   "metadata": {},
   "source": [
    "8) Crear un archivo .py aparte y ubicar allí la clase generada en el punto anterior. Luego realizar la importación del módulo y probar alguna de sus funciones"
   ]
  },
  {
   "cell_type": "code",
   "execution_count": 24,
   "metadata": {},
   "outputs": [
    {
     "name": "stdout",
     "output_type": "stream",
     "text": [
      "El elemento 1 SI es un numero primo\n",
      "El elemento 2 SI es un numero primo\n",
      "El elemento 3 SI es un numero primo\n",
      "El elemento 4 NO es un numero primo\n",
      "El elemento 5 SI es un numero primo\n",
      "El elemento 6 NO es un numero primo\n",
      "El elemento 6 NO es un numero primo\n"
     ]
    }
   ],
   "source": [
    "h.verifica_primo()"
   ]
  },
  {
   "cell_type": "code",
   "execution_count": 27,
   "metadata": {},
   "outputs": [
    {
     "name": "stdout",
     "output_type": "stream",
     "text": [
      "1 grados celsius son 274.15 grados kelvin\n",
      "2 grados celsius son 275.15 grados kelvin\n",
      "3 grados celsius son 276.15 grados kelvin\n",
      "4 grados celsius son 277.15 grados kelvin\n",
      "5 grados celsius son 278.15 grados kelvin\n",
      "6 grados celsius son 279.15 grados kelvin\n",
      "6 grados celsius son 279.15 grados kelvin\n"
     ]
    }
   ],
   "source": [
    "h.conversion_grados('celsius','kelvin')"
   ]
  },
  {
   "cell_type": "code",
   "execution_count": 28,
   "metadata": {},
   "outputs": [
    {
     "data": {
      "text/plain": [
       "(6, 2)"
      ]
     },
     "execution_count": 28,
     "metadata": {},
     "output_type": "execute_result"
    }
   ],
   "source": [
    "h.valor_modal([1,2,3,4,5,6,6])"
   ]
  },
  {
   "cell_type": "code",
   "execution_count": 31,
   "metadata": {},
   "outputs": [],
   "source": [
    "from herramientas import *"
   ]
  },
  {
   "cell_type": "code",
   "execution_count": 34,
   "metadata": {},
   "outputs": [],
   "source": [
    "h2 = Herramientas([3,2,3,4,5,6,6])"
   ]
  },
  {
   "cell_type": "code",
   "execution_count": 35,
   "metadata": {},
   "outputs": [
    {
     "name": "stdout",
     "output_type": "stream",
     "text": [
      "El elemento 3 SI es un numero primo\n",
      "El elemento 2 SI es un numero primo\n",
      "El elemento 3 SI es un numero primo\n",
      "El elemento 4 NO es un numero primo\n",
      "El elemento 5 SI es un numero primo\n",
      "El elemento 6 NO es un numero primo\n",
      "El elemento 6 NO es un numero primo\n"
     ]
    }
   ],
   "source": [
    "h2.verifica_primo()"
   ]
  }
 ],
 "metadata": {
  "interpreter": {
   "hash": "c85384e4cb51c8b72350f3a8712cc8351fdc3955e32a27f9b60c6242ab125f01"
  },
  "kernelspec": {
   "display_name": "Python 3 (ipykernel)",
   "language": "python",
   "name": "python3"
  },
  "language_info": {
   "codemirror_mode": {
    "name": "ipython",
    "version": 3
   },
   "file_extension": ".py",
   "mimetype": "text/x-python",
   "name": "python",
   "nbconvert_exporter": "python",
   "pygments_lexer": "ipython3",
   "version": "3.11.6"
  }
 },
 "nbformat": 4,
 "nbformat_minor": 4
}
