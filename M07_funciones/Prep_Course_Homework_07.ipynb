{
 "cells": [
  {
   "attachments": {},
   "cell_type": "markdown",
   "metadata": {},
   "source": [
    "## Funciones"
   ]
  },
  {
   "attachments": {},
   "cell_type": "markdown",
   "metadata": {},
   "source": [
    "1) Crear una función que reciba un número como parámetro y devuelva True si es primo y False si no lo es"
   ]
  },
  {
   "cell_type": "code",
   "execution_count": 15,
   "metadata": {},
   "outputs": [
    {
     "data": {
      "text/plain": [
       "True"
      ]
     },
     "execution_count": 15,
     "metadata": {},
     "output_type": "execute_result"
    }
   ],
   "source": [
    "\n",
    "def es_primo(numero):\n",
    "    if numero == 2:\n",
    "        return True\n",
    "    else:\n",
    "        if numero <= 1 or numero % 2 == 0:\n",
    "            return False\n",
    "    return True\n",
    "es_primo(9)"
   ]
  },
  {
   "cell_type": "code",
   "execution_count": 17,
   "metadata": {},
   "outputs": [
    {
     "data": {
      "text/plain": [
       "False"
      ]
     },
     "execution_count": 17,
     "metadata": {},
     "output_type": "execute_result"
    }
   ],
   "source": [
    "def verifica_primo(num):\n",
    "    es_primo = True\n",
    "    for divisor in range(2, num):\n",
    "        if num % divisor == 0:\n",
    "            es_primo = False\n",
    "            break\n",
    "    return es_primo\n",
    "\n",
    "verifica_primo(9)\n",
    "        "
   ]
  },
  {
   "attachments": {},
   "cell_type": "markdown",
   "metadata": {},
   "source": [
    "2) Utilizando la función del punto 1, realizar otra función que reciba de parámetro una lista de números y devuelva sólo aquellos que son primos en otra lista"
   ]
  },
  {
   "cell_type": "code",
   "execution_count": 24,
   "metadata": {},
   "outputs": [
    {
     "data": {
      "text/plain": [
       "[2, 5, 9, 23]"
      ]
     },
     "execution_count": 24,
     "metadata": {},
     "output_type": "execute_result"
    }
   ],
   "source": [
    "lis = [2,5,6,8,9,16,22,23]\n",
    "def primos_de_lista(lista_numeros):\n",
    "    lista_primos = []\n",
    "    for numero in lista_numeros:\n",
    "        if es_primo(numero):\n",
    "            lista_primos.append(numero)\n",
    "    return lista_primos\n",
    "primos_de_lista(lis)"
   ]
  },
  {
   "cell_type": "code",
   "execution_count": 16,
   "metadata": {},
   "outputs": [
    {
     "data": {
      "text/plain": [
       "[2, 5, 9, 9, 23]"
      ]
     },
     "execution_count": 16,
     "metadata": {},
     "output_type": "execute_result"
    }
   ],
   "source": [
    "lis1 = [2,5,6,8,9,9,16,22,23]\n",
    "def extraer_primos(lista_numeros):\n",
    "    lista_primos = []\n",
    "    for elemento in lista_numeros:\n",
    "        if es_primo(elemento):\n",
    "            lista_primos.append(elemento)\n",
    "    return lista_primos\n",
    "extraer_primos(lis1)"
   ]
  },
  {
   "attachments": {},
   "cell_type": "markdown",
   "metadata": {},
   "source": [
    "3) Crear una función que al recibir una lista de números, devuelva el que más se repite y cuántas veces lo hace. Si hay más de un \"más repetido\", que devuelva cualquiera"
   ]
  },
  {
   "cell_type": "code",
   "execution_count": 20,
   "metadata": {},
   "outputs": [],
   "source": [
    "from collections import Counter\n",
    "lista_prueba = ['a','a','b','a','c']\n",
    "dicc_prueba = Counter(lista_prueba)"
   ]
  },
  {
   "cell_type": "code",
   "execution_count": 21,
   "metadata": {},
   "outputs": [
    {
     "data": {
      "text/plain": [
       "3"
      ]
     },
     "execution_count": 21,
     "metadata": {},
     "output_type": "execute_result"
    }
   ],
   "source": [
    "dicc_prueba.get('a')"
   ]
  },
  {
   "cell_type": "code",
   "execution_count": 34,
   "metadata": {},
   "outputs": [
    {
     "name": "stdout",
     "output_type": "stream",
     "text": [
      "El que más se repite es 2, y se repite 4 veces\n"
     ]
    }
   ],
   "source": [
    "def calcular_moda(lista):\n",
    "    conteo = Counter(lista)\n",
    "    llave = max(conteo, key = conteo.get)\n",
    "    valor = conteo[llave]\n",
    "    return llave, valor \n",
    "\n",
    "calcular_moda([2,5,6,3,2,2,2])\n",
    "print(f'El que más se repite es {llave}, y se repite {valor} veces')\n"
   ]
  },
  {
   "cell_type": "code",
   "execution_count": 35,
   "metadata": {},
   "outputs": [
    {
     "data": {
      "text/plain": [
       "(8, 4)"
      ]
     },
     "execution_count": 35,
     "metadata": {},
     "output_type": "execute_result"
    }
   ],
   "source": [
    "lista= [2,8,10,2,5,8,8,8]\n",
    "def numero_mas_repetido(lista_numeros):\n",
    "    diccionario_repeticiones = {}\n",
    "    for numero in lista_numeros:\n",
    "        if numero in diccionario_repeticiones:\n",
    "            diccionario_repeticiones[numero] += 1\n",
    "        else:\n",
    "            diccionario_repeticiones[numero] = 1\n",
    "    \n",
    "    veces_repetido = None\n",
    "    numero_mas_repetido = 0\n",
    "    for numero, repe in diccionario_repeticiones.items():\n",
    "        if repe > numero_mas_repetido:\n",
    "            veces_repetido = numero\n",
    "            numero_mas_repetido = repe\n",
    "    return veces_repetido, numero_mas_repetido \n",
    "numero_mas_repetido(lista)\n",
    "    "
   ]
  },
  {
   "attachments": {},
   "cell_type": "markdown",
   "metadata": {},
   "source": [
    "4) Crear una función que convierta entre grados Celsius, Farenheit y Kelvin<br>\n",
    "Fórmula 1\t: (°C × 9/5) + 32 = °F<br>\n",
    "Fórmula 2\t: °C + 273.15 = °K<br>\n",
    "Debe recibir 3 parámetros: el valor, la medida de orígen y la medida de destino\n"
   ]
  },
  {
   "cell_type": "code",
   "execution_count": 44,
   "metadata": {},
   "outputs": [
    {
     "name": "stdout",
     "output_type": "stream",
     "text": [
      "1\n",
      "33.8\n",
      "273.15\n",
      "1\n",
      "-17.22222222222222\n",
      "255.92777777777775\n",
      "1\n",
      "-272.15\n",
      "-457.87\n"
     ]
    }
   ],
   "source": [
    "def convertir_temperatura(valor,origen, destino):\n",
    "    if origen == \"Celsius\":\n",
    "        if destino == \"Celsius\":\n",
    "            return valor\n",
    "        elif destino == 'Farenheit':\n",
    "            return (valor * 9/5) + 32 \n",
    "        elif destino == 'Kelvin':\n",
    "            return (valor * + 273.15)\n",
    "        else:\n",
    "            False\n",
    "    elif origen == \"Farenheit\":\n",
    "        if destino == \"Farenheit\":\n",
    "            return valor\n",
    "        elif destino == \"Celsius\":\n",
    "            return (valor - 32) * 5 / 9\n",
    "        elif destino == \"Kelvin\":\n",
    "            return (valor - 32) * 5 / 9 + 273.15\n",
    "        else:\n",
    "            False\n",
    "    elif origen == \"Kelvin\":\n",
    "        if destino == \"Kelvin\":\n",
    "            return valor\n",
    "        if destino == \"Celsius\":\n",
    "            return valor - 273.15\n",
    "        elif destino == \"Farenheit\":\n",
    "            return (valor - 273.15) * 9 / 5 + 32   \n",
    "        else:\n",
    "            False\n",
    "    else:\n",
    "        False\n",
    "\n",
    "print(convertir_temperatura(1,'Celsius','Celsius'))        \n",
    "print(convertir_temperatura(1,'Celsius','Farenheit'))\n",
    "print(convertir_temperatura(1,'Celsius','Kelvin'))\n",
    "print(convertir_temperatura(1,'Farenheit','Farenheit'))\n",
    "print(convertir_temperatura(1,'Farenheit','Celsius'))\n",
    "print(convertir_temperatura(1,'Farenheit','Kelvin'))\n",
    "print(convertir_temperatura(1,'Kelvin','Kelvin'))\n",
    "print(convertir_temperatura(1,'Kelvin','Celsius'))\n",
    "print(convertir_temperatura(1,'Kelvin','Farenheit'))         "
   ]
  },
  {
   "cell_type": "code",
   "execution_count": 42,
   "metadata": {},
   "outputs": [
    {
     "name": "stdout",
     "output_type": "stream",
     "text": [
      "1\n",
      "33.8\n",
      "274.15\n",
      "1\n",
      "-17.22222222222222\n",
      "255.92777777777775\n",
      "1\n",
      "-272.15\n",
      "-457.87\n"
     ]
    }
   ],
   "source": [
    "def convertir_temperatura(valor, medida_origen, medida_destino):\n",
    "    if medida_origen == \"Celsius\":\n",
    "        if medida_destino == \"Celsius\":\n",
    "            return valor\n",
    "        elif medida_destino == \"Farenheit\":\n",
    "            return (valor * 9 / 5) + 32\n",
    "        elif medida_destino == \"Kelvin\":\n",
    "            return valor + 273.15\n",
    "        else:\n",
    "            print(\"Medida de destino no válida.\")\n",
    "    elif medida_origen == \"Farenheit\":\n",
    "        if medida_destino == \"Farenheit\":\n",
    "            return valor\n",
    "        elif medida_destino == \"Celsius\":\n",
    "            return (valor - 32) * 5 / 9\n",
    "        elif medida_destino == \"Kelvin\":\n",
    "            return (valor - 32) * 5 / 9 + 273.15\n",
    "        else:\n",
    "            print(\"Medida de destino no válida.\")\n",
    "    elif medida_origen == \"Kelvin\":\n",
    "        if medida_destino == \"Kelvin\":\n",
    "            return valor\n",
    "        if medida_destino == \"Celsius\":\n",
    "            return valor - 273.15\n",
    "        elif medida_destino == \"Farenheit\":\n",
    "            return (valor - 273.15) * 9 / 5 + 32\n",
    "        else:\n",
    "            print(\"Medida de destino no válida.\")\n",
    "    else:\n",
    "        print(\"Medida de destino no válida.\")\n",
    "\n",
    "print(convertir_temperatura(1,'Celsius','Celsius'))        \n",
    "print(convertir_temperatura(1,'Celsius','Farenheit'))\n",
    "print(convertir_temperatura(1,'Celsius','Kelvin'))\n",
    "print(convertir_temperatura(1,'Farenheit','Farenheit'))\n",
    "print(convertir_temperatura(1,'Farenheit','Celsius'))\n",
    "print(convertir_temperatura(1,'Farenheit','Kelvin'))\n",
    "print(convertir_temperatura(1,'Kelvin','Kelvin'))\n",
    "print(convertir_temperatura(1,'Kelvin','Celsius'))\n",
    "print(convertir_temperatura(1,'Kelvin','Farenheit'))"
   ]
  },
  {
   "attachments": {},
   "cell_type": "markdown",
   "metadata": {},
   "source": [
    "5) Iterando una lista con los tres valores posibles de temperatura que recibe la función del punto 5, hacer un print para cada combinación de los mismos:"
   ]
  },
  {
   "cell_type": "code",
   "execution_count": 48,
   "metadata": {},
   "outputs": [
    {
     "name": "stdout",
     "output_type": "stream",
     "text": [
      "1 grado Celsius a Celsius : 1\n",
      "1 grado Celsius a Kelvin : 273.15\n",
      "1 grado Celsius a Farenheit : 33.8\n",
      "1 grado Kelvin a Celsius : -272.15\n",
      "1 grado Kelvin a Kelvin : 1\n",
      "1 grado Kelvin a Farenheit : -457.87\n",
      "1 grado Farenheit a Celsius : -17.22222222222222\n",
      "1 grado Farenheit a Kelvin : 255.92777777777775\n",
      "1 grado Farenheit a Farenheit : 1\n"
     ]
    }
   ],
   "source": [
    "metricas = ['Celsius','Kelvin','Farenheit']\n",
    "for i in range(0,3):\n",
    "    for j in range(0,3):\n",
    "        print('1 grado', metricas[i], 'a', metricas[j],':', convertir_temperatura(1, metricas[i], metricas[j]))"
   ]
  },
  {
   "cell_type": "code",
   "execution_count": 28,
   "metadata": {},
   "outputs": [
    {
     "name": "stdout",
     "output_type": "stream",
     "text": [
      "1 grado Celsius a Celsius : 1\n",
      "1 grado Celsius a Kelvin : 274.15\n",
      "1 grado Celsius a Farenheit : 33.8\n",
      "1 grado Kelvin a Celsius : -272.15\n",
      "1 grado Kelvin a Kelvin : 1\n",
      "1 grado Kelvin a Farenheit : -457.87\n",
      "1 grado Farenheit a Celsius : -17.22222222222222\n",
      "1 grado Farenheit a Kelvin : 255.92777777777775\n",
      "1 grado Farenheit a Farenheit : 1\n"
     ]
    }
   ],
   "source": [
    "metricas = ['Celsius','Kelvin','Farenheit']\n",
    "for i in range(0,3):\n",
    "    for j in range(0,3):\n",
    "        print('1 grado', metricas[i], 'a', metricas[j],':', convertir_temperatura(1, metricas[i], metricas[j]))"
   ]
  },
  {
   "attachments": {},
   "cell_type": "markdown",
   "metadata": {},
   "source": [
    "6) Armar una función que devuelva el factorial de un número. Tener en cuenta que el usuario puede equivocarse y enviar de parámetro un número no entero o negativo"
   ]
  },
  {
   "cell_type": "code",
   "execution_count": 50,
   "metadata": {},
   "outputs": [
    {
     "name": "stdout",
     "output_type": "stream",
     "text": [
      "120\n",
      "El número debe ser >= a cero y entero\n"
     ]
    }
   ],
   "source": [
    "def calcular_factorial(num):\n",
    "    if (num <= 0 or (type(num) != int)):\n",
    "        return ('El número debe ser >= a cero y entero')\n",
    "    if (num > 1):\n",
    "        #print(num)\n",
    "        num = num * calcular_factorial(num - 1)\n",
    "    return num\n",
    "print(factorial(5))\n",
    "print(factorial(-1.5))"
   ]
  },
  {
   "cell_type": "markdown",
   "metadata": {},
   "source": []
  }
 ],
 "metadata": {
  "interpreter": {
   "hash": "c85384e4cb51c8b72350f3a8712cc8351fdc3955e32a27f9b60c6242ab125f01"
  },
  "kernelspec": {
   "display_name": "Python 3 (ipykernel)",
   "language": "python",
   "name": "python3"
  },
  "language_info": {
   "codemirror_mode": {
    "name": "ipython",
    "version": 3
   },
   "file_extension": ".py",
   "mimetype": "text/x-python",
   "name": "python",
   "nbconvert_exporter": "python",
   "pygments_lexer": "ipython3",
   "version": "3.11.6"
  }
 },
 "nbformat": 4,
 "nbformat_minor": 4
}
