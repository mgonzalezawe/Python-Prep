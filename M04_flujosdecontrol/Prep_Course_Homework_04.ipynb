{
 "cells": [
  {
   "attachments": {},
   "cell_type": "markdown",
   "metadata": {},
   "source": [
    "## Flujos de Control"
   ]
  },
  {
   "attachments": {},
   "cell_type": "markdown",
   "metadata": {},
   "source": [
    "1) Crear una variable que contenga un elemento del conjunto de números enteros y luego imprimir por pantalla si es mayor o menor a cero"
   ]
  },
  {
   "cell_type": "code",
   "execution_count": 12,
   "metadata": {},
   "outputs": [
    {
     "name": "stdout",
     "output_type": "stream",
     "text": [
      "La variable es menor a cero\n"
     ]
    }
   ],
   "source": [
    "num = -1\n",
    "if type(num) == int:\n",
    "    if (num > 0):\n",
    "        print('La variable es mayor a cero')\n",
    "    elif num < 0:\n",
    "        print('La variable es menor a cero')\n",
    "    else:\n",
    "        print('La variable es igual a cero')\n",
    "else:\n",
    "    print(\"No es INT\")"
   ]
  },
  {
   "attachments": {},
   "cell_type": "markdown",
   "metadata": {},
   "source": [
    "2) Crear dos variables y un condicional que informe si son del mismo tipo de dato"
   ]
  },
  {
   "cell_type": "code",
   "execution_count": 13,
   "metadata": {},
   "outputs": [
    {
     "name": "stdout",
     "output_type": "stream",
     "text": [
      "5 y Matías no son el mismo tipo de dato\n"
     ]
    }
   ],
   "source": [
    "num = 5\n",
    "nombre = 'Matías'\n",
    "if (type(num) == type(nombre)):\n",
    "    print(f'{num} y {nombre} son el mismo tipo de dato')\n",
    "else:\n",
    "    print(f'{num} y {nombre} no son el mismo tipo de dato')"
   ]
  },
  {
   "attachments": {},
   "cell_type": "markdown",
   "metadata": {},
   "source": [
    "3) Para los valores enteros del 1 al 20, imprimir por pantalla si es par o impar"
   ]
  },
  {
   "cell_type": "code",
   "execution_count": 15,
   "metadata": {},
   "outputs": [
    {
     "name": "stdout",
     "output_type": "stream",
     "text": [
      "El valor  1 es impar\n",
      "El valor  2 es par\n",
      "El valor  3 es impar\n",
      "El valor  4 es par\n",
      "El valor  5 es impar\n",
      "El valor  6 es par\n",
      "El valor  7 es impar\n",
      "El valor  8 es par\n",
      "El valor  9 es impar\n",
      "El valor  10 es par\n",
      "El valor  11 es impar\n",
      "El valor  12 es par\n",
      "El valor  13 es impar\n",
      "El valor  14 es par\n",
      "El valor  15 es impar\n",
      "El valor  16 es par\n",
      "El valor  17 es impar\n",
      "El valor  18 es par\n",
      "El valor  19 es impar\n",
      "El valor  20 es par\n"
     ]
    }
   ],
   "source": [
    "for i in range(1,21):\n",
    "    resto = i%2\n",
    "    if resto > 0:\n",
    "        print('El valor ',i, 'es impar')\n",
    "    else:\n",
    "        print('El valor ',i, 'es par')"
   ]
  },
  {
   "attachments": {},
   "cell_type": "markdown",
   "metadata": {},
   "source": [
    "4) En un ciclo for mostrar para los valores entre 0 y 5 el resultado de elevarlo a la potencia igual a 3"
   ]
  },
  {
   "cell_type": "code",
   "execution_count": 30,
   "metadata": {},
   "outputs": [
    {
     "name": "stdout",
     "output_type": "stream",
     "text": [
      "Valor: 0  Elevado a la 3ra potencia: 0\n",
      "Valor: 1  Elevado a la 3ra potencia: 1\n",
      "Valor: 2  Elevado a la 3ra potencia: 8\n",
      "Valor: 3  Elevado a la 3ra potencia: 27\n",
      "Valor: 4  Elevado a la 3ra potencia: 64\n",
      "Valor: 5  Elevado a la 3ra potencia: 125\n"
     ]
    }
   ],
   "source": [
    "for i in range(0,6):\n",
    "    # ó potencia = i**3 y poner potencia en el print\n",
    "    print('Valor:', i, ' Elevado a la 3ra potencia:',i**3)"
   ]
  },
  {
   "attachments": {},
   "cell_type": "markdown",
   "metadata": {},
   "source": [
    "5) Crear una variable que contenga un número entero y realizar un ciclo for la misma cantidad de ciclos"
   ]
  },
  {
   "cell_type": "code",
   "execution_count": 16,
   "metadata": {},
   "outputs": [
    {
     "name": "stdout",
     "output_type": "stream",
     "text": [
      "1\n",
      "2\n",
      "3\n",
      "4\n",
      "5\n",
      "6\n",
      "7\n",
      "8\n",
      "9\n",
      "10\n"
     ]
    }
   ],
   "source": [
    "num = 10\n",
    "for i in range(1,num+1):\n",
    "    print(i)"
   ]
  },
  {
   "attachments": {},
   "cell_type": "markdown",
   "metadata": {},
   "source": [
    "6) Utilizar un ciclo while para realizar el factorial de un número guardado en una variable, sólo si la variable contiene un número entero mayor a 0"
   ]
  },
  {
   "cell_type": "code",
   "execution_count": 39,
   "metadata": {},
   "outputs": [
    {
     "name": "stdout",
     "output_type": "stream",
     "text": [
      "5\n",
      "5\n",
      "4\n",
      "20\n",
      "3\n",
      "60\n",
      "2\n",
      "120\n",
      "1\n",
      "120\n",
      "El factorial es 120\n"
     ]
    }
   ],
   "source": [
    "numero = 5\n",
    "factorial = 1\n",
    "if type(numero) == int and numero > 0:\n",
    "    while numero >= 1:\n",
    "        print(numero)\n",
    "        factorial = factorial * numero\n",
    "        print(factorial)\n",
    "        numero -= 1\n",
    "    print('El factorial es', factorial)\n",
    "else:\n",
    "    print('La variable no es int mayor a cero')\n"
   ]
  },
  {
   "attachments": {},
   "cell_type": "markdown",
   "metadata": {},
   "source": [
    "7) Crear un ciclo for dentro de un ciclo while"
   ]
  },
  {
   "cell_type": "code",
   "execution_count": 42,
   "metadata": {},
   "outputs": [
    {
     "name": "stdout",
     "output_type": "stream",
     "text": [
      "ciclo while 1\n",
      "ciclo for 1\n",
      "ciclo while 2\n",
      "ciclo for 1\n",
      "ciclo for 2\n",
      "ciclo while 3\n",
      "ciclo for 1\n",
      "ciclo for 2\n",
      "ciclo for 3\n"
     ]
    }
   ],
   "source": [
    "i = 1\n",
    "while i <= 3:\n",
    "   print(f\"ciclo while {i}\")\n",
    "   for i in range(1 , i+1):\n",
    "      print(f\"ciclo for {i}\")\n",
    "   i += 1\n",
    "# num = list(range(1,3))\n",
    "# print(num)\n",
    "# SALIDA >> [1, 2]"
   ]
  },
  {
   "attachments": {},
   "cell_type": "markdown",
   "metadata": {},
   "source": [
    "8) Crear un ciclo while dentro de un ciclo for"
   ]
  },
  {
   "cell_type": "code",
   "execution_count": 71,
   "metadata": {},
   "outputs": [
    {
     "name": "stdout",
     "output_type": "stream",
     "text": [
      "ciclo for 0\n",
      "ciclo while0\n",
      "ciclo while1\n",
      "ciclo while2\n",
      "ciclo for 1\n",
      "ciclo while0\n",
      "ciclo while1\n",
      "ciclo while2\n"
     ]
    }
   ],
   "source": [
    "n = 2\n",
    "for i in range(n):\n",
    "    contador = 0\n",
    "    limite = 3\n",
    "    print(f\"ciclo for {i}\")\n",
    "    while contador < limite:\n",
    "        print(f'ciclo while{contador}')\n",
    "        contador+=1\n"
   ]
  },
  {
   "attachments": {},
   "cell_type": "markdown",
   "metadata": {},
   "source": [
    "9) Imprimir los números primos existentes entre 0 y 30"
   ]
  },
  {
   "cell_type": "code",
   "execution_count": 97,
   "metadata": {},
   "outputs": [
    {
     "name": "stdout",
     "output_type": "stream",
     "text": [
      "2\n",
      "3\n",
      "5\n",
      "7\n",
      "11\n",
      "13\n",
      "17\n",
      "19\n",
      "23\n",
      "29\n"
     ]
    }
   ],
   "source": [
    "tope_rango=30\n",
    "n = 2\n",
    "primo = True\n",
    "\n",
    "while n <= tope_rango:\n",
    "    for div in range(2, n):\n",
    "        resto = n % div\n",
    "        if resto == 0:\n",
    "            primo = False\n",
    "    if (primo):\n",
    "        print(n)\n",
    "    else:\n",
    "        primo = True\n",
    "    n += 1"
   ]
  },
  {
   "attachments": {},
   "cell_type": "markdown",
   "metadata": {},
   "source": [
    "10) ¿Se puede mejorar el proceso del punto 9? Utilizar las sentencias break y/ó continue para tal fin"
   ]
  },
  {
   "cell_type": "code",
   "execution_count": 98,
   "metadata": {},
   "outputs": [
    {
     "name": "stdout",
     "output_type": "stream",
     "text": [
      "2\n",
      "3\n",
      "5\n",
      "7\n",
      "11\n",
      "13\n",
      "17\n",
      "19\n",
      "23\n",
      "29\n"
     ]
    }
   ],
   "source": [
    "tope_rango=30\n",
    "n = 2\n",
    "primo = True\n",
    "\n",
    "while n <= tope_rango:\n",
    "    for div in range(2, n):\n",
    "        resto = n % div\n",
    "        if resto == 0:\n",
    "            primo = False\n",
    "            break\n",
    "    if (primo):\n",
    "        print(n)\n",
    "    else:\n",
    "        primo = True\n",
    "    n += 1"
   ]
  },
  {
   "attachments": {},
   "cell_type": "markdown",
   "metadata": {},
   "source": [
    "11) En los puntos 9 y 10, se diseño un código que encuentra números primos y además se lo optimizó. ¿Es posible saber en qué medida se optimizó?"
   ]
  },
  {
   "cell_type": "code",
   "execution_count": 117,
   "metadata": {},
   "outputs": [
    {
     "name": "stdout",
     "output_type": "stream",
     "text": [
      "2\n",
      "3\n",
      "5\n",
      "7\n",
      "11\n",
      "13\n",
      "17\n",
      "19\n",
      "23\n",
      "29\n",
      "31\n",
      "37\n",
      "41\n",
      "43\n",
      "47\n",
      "53\n",
      "59\n",
      "61\n",
      "67\n",
      "71\n",
      "73\n",
      "79\n",
      "83\n",
      "89\n",
      "97\n",
      "cantidad 4851\n"
     ]
    }
   ],
   "source": [
    "tope_rango=100\n",
    "n = 2\n",
    "primo = True\n",
    "ciclos_sin_break = 0\n",
    "while n <= tope_rango:\n",
    "    for div in range(2, n):\n",
    "        ciclos_sin_break += 1\n",
    "        resto = n % div\n",
    "        if resto == 0:\n",
    "            primo = False\n",
    "            \n",
    "    if (primo):\n",
    "        print(n)\n",
    "    else:\n",
    "        primo = True\n",
    "    n += 1\n",
    "\n",
    "print(f'cantidad {ciclos_sin_break}')"
   ]
  },
  {
   "cell_type": "code",
   "execution_count": 118,
   "metadata": {},
   "outputs": [
    {
     "name": "stdout",
     "output_type": "stream",
     "text": [
      "2\n",
      "3\n",
      "5\n",
      "7\n",
      "11\n",
      "13\n",
      "17\n",
      "19\n",
      "23\n",
      "29\n",
      "31\n",
      "37\n",
      "41\n",
      "43\n",
      "47\n",
      "53\n",
      "59\n",
      "61\n",
      "67\n",
      "71\n",
      "73\n",
      "79\n",
      "83\n",
      "89\n",
      "97\n",
      "cantidad 1133\n",
      "optimización 0.23356009070294784\n"
     ]
    }
   ],
   "source": [
    "tope_rango=100\n",
    "n = 2\n",
    "primo = True\n",
    "ciclos_con_break = 0\n",
    "while n <= tope_rango:\n",
    "    for div in range(2, n):\n",
    "        ciclos_con_break += 1\n",
    "        resto = n % div\n",
    "        if resto == 0:\n",
    "            primo = False\n",
    "            break\n",
    "    if (primo):\n",
    "        print(n)\n",
    "    else:\n",
    "        primo = True\n",
    "    n += 1\n",
    "\n",
    "print(f'cantidad {ciclos_con_break}')\n",
    "print(f'optimización {ciclos_con_break/ciclos_sin_break}')"
   ]
  },
  {
   "attachments": {},
   "cell_type": "markdown",
   "metadata": {},
   "source": [
    "12) Aplicando continue, armar un ciclo while que solo imprima los valores divisibles por 12, dentro del rango de números de 100 a 300"
   ]
  },
  {
   "cell_type": "code",
   "execution_count": 124,
   "metadata": {},
   "outputs": [
    {
     "name": "stdout",
     "output_type": "stream",
     "text": [
      "108 es divisible por 12\n",
      "120 es divisible por 12\n",
      "132 es divisible por 12\n",
      "144 es divisible por 12\n",
      "156 es divisible por 12\n",
      "168 es divisible por 12\n",
      "180 es divisible por 12\n",
      "192 es divisible por 12\n",
      "204 es divisible por 12\n",
      "216 es divisible por 12\n",
      "228 es divisible por 12\n",
      "240 es divisible por 12\n",
      "252 es divisible por 12\n",
      "264 es divisible por 12\n",
      "276 es divisible por 12\n",
      "288 es divisible por 12\n",
      "300 es divisible por 12\n"
     ]
    }
   ],
   "source": [
    "n = 100\n",
    "while n <=300:\n",
    "    n+=1\n",
    "    if (n % 12) != 0:\n",
    "        continue\n",
    "    print(f'{n} es divisible por 12')\n",
    "    \n",
    "\n",
    "\n",
    "    "
   ]
  },
  {
   "attachments": {},
   "cell_type": "markdown",
   "metadata": {},
   "source": [
    "13) Utilizar la función **input()** que permite hacer ingresos por teclado, para encontrar números primos y dar la opción al usario de buscar el siguiente"
   ]
  },
  {
   "cell_type": "code",
   "execution_count": 129,
   "metadata": {},
   "outputs": [
    {
     "name": "stdout",
     "output_type": "stream",
     "text": [
      "5\n",
      "<class 'int'>\n"
     ]
    }
   ],
   "source": [
    "a = int(input('Ingrese un numero > a 0: '))\n",
    "print(a)\n",
    "print(type(a))"
   ]
  },
  {
   "cell_type": "code",
   "execution_count": 134,
   "metadata": {},
   "outputs": [
    {
     "name": "stdout",
     "output_type": "stream",
     "text": [
      "2 es primo\n",
      "Desea encontrar el siguiente primo\n",
      "se finaliza el proceso\n"
     ]
    }
   ],
   "source": [
    "n = 2\n",
    "primo = True\n",
    "buscar_primo = True\n",
    "\n",
    "while buscar_primo:\n",
    "    for div in range(2, n):\n",
    "        resto = n % div\n",
    "        if resto == 0:\n",
    "            primo = False\n",
    "            break\n",
    "    if (primo):\n",
    "        print(f'{n} es primo')\n",
    "        print('Desea encontrar el siguiente primo')\n",
    "        continuar = input('ingrese si o no: ')\n",
    "        if continuar == \"no\":\n",
    "            print(\"se finaliza el proceso\")\n",
    "            buscar_primo = False\n",
    "            break\n",
    "    else:\n",
    "        primo = True\n",
    "    n += 1"
   ]
  },
  {
   "attachments": {},
   "cell_type": "markdown",
   "metadata": {},
   "source": [
    "14) Crear un ciclo while que encuentre dentro del rango de 100 a 300 el primer número divisible por 3 y además múltiplo de 6"
   ]
  },
  {
   "cell_type": "code",
   "execution_count": 150,
   "metadata": {},
   "outputs": [
    {
     "name": "stdout",
     "output_type": "stream",
     "text": [
      "el primer número divisible por 3 y además múltiplo de 6 es 102\n"
     ]
    }
   ],
   "source": [
    "i = 100\n",
    "while i <= 300:\n",
    "    if i % 6 == 0:\n",
    "        print(f'el primer número divisible por 3 y además múltiplo de 6 es {i}')\n",
    "        break\n",
    "    i += 1\n"
   ]
  }
 ],
 "metadata": {
  "interpreter": {
   "hash": "c85384e4cb51c8b72350f3a8712cc8351fdc3955e32a27f9b60c6242ab125f01"
  },
  "kernelspec": {
   "display_name": "Python 3 (ipykernel)",
   "language": "python",
   "name": "python3"
  },
  "language_info": {
   "codemirror_mode": {
    "name": "ipython",
    "version": 3
   },
   "file_extension": ".py",
   "mimetype": "text/x-python",
   "name": "python",
   "nbconvert_exporter": "python",
   "pygments_lexer": "ipython3",
   "version": "3.11.6"
  }
 },
 "nbformat": 4,
 "nbformat_minor": 4
}
